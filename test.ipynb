{
 "cells": [
  {
   "cell_type": "code",
   "execution_count": 44,
   "metadata": {},
   "outputs": [],
   "source": [
    "# import necessary libraries\n",
    "import pandas as pd\n",
    "import matplotlib.pyplot as plt\n",
    "import os\n",
    "import math\n",
    "import numpy as np\n",
    "import laspy, lazrs\n",
    "import random as random\n",
    "import networkx as nx\n",
    "from scipy import spatial\n",
    "from pathlib import Path\n",
    "\n",
    "# file paths\n",
    "random_points_path = \"random_points.csv\"\n",
    "subsets_path = \"subsets\"\n",
    "subset_name = \"sub\""
   ]
  },
  {
   "cell_type": "code",
   "execution_count": 3,
   "metadata": {},
   "outputs": [],
   "source": [
    "points = pd.read_csv(random_points_path)"
   ]
  },
  {
   "cell_type": "code",
   "execution_count": 7,
   "metadata": {},
   "outputs": [
    {
     "name": "stdout",
     "output_type": "stream",
     "text": [
      "Start point:  1457.4500000011176 44.38000000081957 9.839999999999918\n",
      "End point:  424.2000000011176 910.960000000894 36.22000000000003\n",
      "Start index:  1722084\n",
      "End index:  55821\n"
     ]
    }
   ],
   "source": [
    "# generate a random point from the \"points\" dataframe\n",
    "minDistance = 800\n",
    "start_index = random.randint(0, points.shape[0])\n",
    "end_index = random.randint(0, points.shape[0])\n",
    "start = points.loc[start_index]\n",
    "end = points.loc[end_index]\n",
    "\n",
    "# get the distance between two points\n",
    "def distance(p1, p2):\n",
    "    return math.sqrt((p1.x - p2.x)**2 + (p1.y - p2.y)**2 + (p1.z - p2.z)**2)\n",
    "\n",
    "while (distance(start, end) < minDistance):\n",
    "    start_index = random.randint(0, points.shape[0])\n",
    "    end_index = random.randint(0, points.shape[0])\n",
    "    start = points.loc[start_index]\n",
    "    end = points.loc[end_index]\n",
    "\n",
    "print(\"Start point: \", start[\"x\"], start[\"y\"], start[\"z\"])\n",
    "print(\"End point: \", end[\"x\"], end[\"y\"], end[\"z\"])\n",
    "print(\"Start index: \", str(start_index))\n",
    "print(\"End index: \", str(end_index))"
   ]
  },
  {
   "cell_type": "code",
   "execution_count": 45,
   "metadata": {},
   "outputs": [
    {
     "name": "stdout",
     "output_type": "stream",
     "text": [
      "number of points per subset: 558100\n",
      "effective resolution: 0.002\n",
      "number of subsets: 20\n"
     ]
    }
   ],
   "source": [
    "# Hyperparameters and variables\n",
    "\n",
    "# number of edges per node in the graph\n",
    "depth = 4\n",
    "\n",
    "# number of subsets/subgraphs (ideally subsets == resolution)\n",
    "subsets = 20\n",
    "\n",
    "# higher resolution = less points. effective resolution = subsets/resolution\n",
    "resolution = 10000\n",
    "\n",
    "# max tolerated slope angle (degrees)\n",
    "max_slope = 40\n",
    "\n",
    "# slope importance factor\n",
    "slope_factor = 0.005\n",
    "\n",
    "# height importance factor\n",
    "height_factor = 1000\n",
    "\n",
    "# heuristic function: greater return value means greater cost for the path (best path has low cost)\n",
    "def heur(x1, y1, z1, x2, y2, z2):\n",
    "    # print(f\"distance weight: {math.sqrt((x2 - x1) ** 2 + (y2 - y1) ** 2)}\")\n",
    "    # print(f\"slope angle: {slope_angle(x1, y1, z1, x2, y2, z2)}\")\n",
    "    # print(f\"slope weight: {slope_factor * slope_angle(x1, y1, z1, x2, y2, z2)}\")\n",
    "    return math.sqrt((x2 - x1) ** 2 + (y2 - y1) ** 2 + height_factor * (z2 - z1) ** 2)\n",
    "    #  + slope_factor * slope_angle(x1, y1, z1, x2, y2, z2)\n",
    "\n",
    "def heur_dist(x1, y1, z1, x2, y2, z2):\n",
    "    return math.sqrt((x2 - x1) ** 2 + (y2 - y1) ** 2)\n",
    "\n",
    "# other variables\n",
    "skip = len(points) // subsets\n",
    "print(f\"number of points per subset: {skip}\")\n",
    "print(f\"effective resolution: {subsets/resolution}\")\n",
    "print(f\"number of subsets: {subsets}\")\n",
    "\n",
    "# plot variables\n",
    "boldness = 1\n",
    "plotSize = 10\n",
    "\n",
    "# helper methods\n",
    "def slope_angle(x1, y1, z1, x2, y2, z2):\n",
    "    # v dot w = |v||w|cos(theta)\n",
    "    # theta = arccos(v dot w / |v||w|)\n",
    "    v = np.array([abs(x2 - x1), abs(y2 - y1), abs(z2 - z1)])\n",
    "    w = np.array([0, 0, 1])\n",
    "    v_norm = np.linalg.norm(v)\n",
    "    if v_norm == 0:\n",
    "        return 0\n",
    "    return abs(math.degrees(math.acos(np.dot(v, w) / v_norm)))"
   ]
  },
  {
   "cell_type": "code",
   "execution_count": 46,
   "metadata": {},
   "outputs": [
    {
     "name": "stdout",
     "output_type": "stream",
     "text": [
      "20 subsets saved to subsets\n"
     ]
    }
   ],
   "source": [
    "skip = len(points) // subsets  # Number of points per subset\n",
    "points_per_subset = len(points) // resolution  # Number of points per subset based on resolution\n",
    "\n",
    "output_dir = Path(subsets_path)\n",
    "output_dir.mkdir(exist_ok=True)\n",
    "\n",
    "for i in range(subsets):\n",
    "    # Select the subset of points with points_per_subset points\n",
    "    sub = points.iloc[i * points_per_subset:(i + 1) * points_per_subset].copy()\n",
    "    \n",
    "    # Add the start and end points to the subset\n",
    "    sub = pd.concat([sub, start.to_frame().T, end.to_frame().T], ignore_index=True)\n",
    "    \n",
    "    # Save the subset to a CSV file\n",
    "    filepath = output_dir / f\"{subset_name}{i}.csv\"\n",
    "    sub.to_csv(filepath, index=False)\n",
    "\n",
    "print(f\"{subsets} subsets saved to {output_dir}\")"
   ]
  },
  {
   "cell_type": "code",
   "execution_count": 59,
   "metadata": {},
   "outputs": [
    {
     "name": "stderr",
     "output_type": "stream",
     "text": [
      "/var/folders/nj/3217hbg559b0blsl1jfx56tw0000gn/T/ipykernel_90092/839333947.py:2: FutureWarning: The behavior of DataFrame concatenation with empty or all-NA entries is deprecated. In a future version, this will no longer exclude empty or all-NA columns when determining the result dtypes. To retain the old behavior, exclude the relevant entries before the concat operation.\n",
      "  path_points = pd.concat([path_points, start.to_frame().T], ignore_index=True, axis=0)\n"
     ]
    },
    {
     "name": "stdout",
     "output_type": "stream",
     "text": [
      "\n",
      "Done\n"
     ]
    }
   ],
   "source": [
    "path_points = pd.DataFrame(columns=[\"x\", \"y\", \"z\"])\n",
    "path_points = pd.concat([path_points, start.to_frame().T], ignore_index=True, axis=0)\n",
    "# Define the heuristic function for A*\n",
    "def heuristic1(node1, node2):\n",
    "    x1, y1, z1 = G.nodes[node1]['x'], G.nodes[node1]['y'], G.nodes[node1]['z']\n",
    "    x2, y2, z2 = G.nodes[node2]['x'], G.nodes[node2]['y'], G.nodes[node2]['z']\n",
    "    return heur_dist(x1, y1, z1, x2, y2, z2)\n",
    "\n",
    "for k in range(subsets):\n",
    "    sub = pd.read_csv(os.path.join(subsets_path, f\"{subset_name}{k}.csv\"))\n",
    "\n",
    "    G = nx.Graph()\n",
    "\n",
    "    # Add nodes from subset\n",
    "    for i, row in sub.iterrows():\n",
    "        G.add_node(i, x = row['x'], y = row['y'], z = row['z'])\n",
    "\n",
    "    # Add edges between the closest nodes (ignoring height)\n",
    "    coords = sub[['x', 'y']].values\n",
    "    tree = spatial.KDTree(coords)\n",
    "    for i, row in sub.iterrows():\n",
    "        distances, indices = tree.query([row['x'], row['y']], k=depth+1)\n",
    "        for j in range(1, len(indices)):  # skip the first index because it is the point itself\n",
    "            G.add_edge(i, indices[j], weight=distances[j])\n",
    "\n",
    "    # check if the graph is connected\n",
    "    if not nx.is_connected(G):\n",
    "        # start at a node. add an edge to the closest node that is not connected\n",
    "        # repeat until the graph is connected\n",
    "        start_node = sub.shape[0] - 2\n",
    "        end_node = sub.shape[0] - 1\n",
    "        while not nx.has_path(G, start_node, end_node):\n",
    "            # find the closest node that is not connected\n",
    "            for i, row in sub.iterrows():\n",
    "                if not nx.has_path(G, start_node, i):\n",
    "                    w = math.sqrt((sub.loc[start_node, 'x'] - sub.loc[i, 'x'])**2 + (sub.loc[start_node, 'y'] - sub.loc[i, 'y'])**2)\n",
    "                    G.add_edge(start_node, i, weight=w)\n",
    "                    break\n",
    "\n",
    "    # Find the shortest path using A*\n",
    "    path = nx.astar_path(G, sub.shape[0] - 2, sub.shape[0] - 1, heuristic=heuristic1)\n",
    "    path = pd.Series(path)\n",
    "    \n",
    "    # add path to path_points\n",
    "    path_points = pd.concat([path_points, sub.loc[path]], ignore_index=True, axis=0)\n",
    "\n",
    "print(\"\\nDone\")"
   ]
  },
  {
   "cell_type": "code",
   "execution_count": 61,
   "metadata": {},
   "outputs": [
    {
     "name": "stdout",
     "output_type": "stream",
     "text": [
      "           x       y      z\n",
      "0    1457.45   44.38   9.84\n",
      "1    1413.17   22.41  10.37\n",
      "2    1358.38   20.72   8.69\n",
      "3    1318.60   41.02   8.47\n",
      "4    1278.79   88.57   8.66\n",
      "..       ...     ...    ...\n",
      "742   427.78  802.72  34.77\n",
      "743   415.33  824.43  38.74\n",
      "744   402.32  848.67  36.74\n",
      "745   403.11  872.12  43.25\n",
      "746   424.20  910.96  36.22\n",
      "\n",
      "[747 rows x 3 columns]\n"
     ]
    }
   ],
   "source": [
    "path_points.drop_duplicates(inplace=True, keep='first')\n",
    "path_points.reset_index(drop=True, inplace=True)\n",
    "# add end point to path_points\n",
    "path_points = pd.concat([path_points, end.to_frame().T], ignore_index=True, axis=0)\n",
    "path_points.to_csv(\"path_points.csv\", index=False)\n",
    "print(path_points)"
   ]
  },
  {
   "cell_type": "code",
   "execution_count": 42,
   "metadata": {},
   "outputs": [
    {
     "name": "stdout",
     "output_type": "stream",
     "text": [
      "Finding path for path_points\n",
      "\n",
      "Done\n"
     ]
    }
   ],
   "source": [
    "print(\"Finding path for path_points\")\n",
    "# make new graph using path_points\n",
    "G = nx.Graph()\n",
    "\n",
    "# Define the heuristic function for A*\n",
    "def heuristic2(node1, node2):\n",
    "    x1, y1, z1 = G.nodes[node1]['x'], G.nodes[node1]['y'], G.nodes[node1]['z']\n",
    "    x2, y2, z2 = G.nodes[node2]['x'], G.nodes[node2]['y'], G.nodes[node2]['z']\n",
    "    return heur(x1, y1, z1, x2, y2, z2)\n",
    "\n",
    "# Add nodes from path_points\n",
    "for i, row in path_points.iterrows():\n",
    "    G.add_node(i, x = row['x'], y = row['y'], z = row['z'])\n",
    "\n",
    "# Add edges between the closest nodes\n",
    "coords = path_points[['x', 'y', 'z']].values\n",
    "tree = spatial.KDTree(coords)\n",
    "for i, row in path_points.iterrows():\n",
    "    distances, indices = tree.query([row['x'], row['y'], row['z']], k=depth+1)\n",
    "    for j in range(1, len(indices)):  # skip the first index because it is the point itself\n",
    "        node1 = i\n",
    "        node2 = indices[j]\n",
    "        G.add_edge(node1, node2, weight=heuristic2(node1, node2))\n",
    "\n",
    "# check if the graph is connected\n",
    "if not nx.is_connected(G):\n",
    "    print(f\"Graph is not connected. Adding edges to connect the graph\")\n",
    "    # start at a node. add an edge to the closest node that is not connected\n",
    "    # repeat until the graph is connected\n",
    "    start_node = path_points.shape[0] - 2\n",
    "    end_node = path_points.shape[0] - 1\n",
    "    while not nx.has_path(G, start_node, end_node):\n",
    "        # find the closest node that is not connected\n",
    "        for i, row in path_points.iterrows():\n",
    "            if not nx.has_path(G, start_node, i):\n",
    "                w = heuristic2(start_node, i)\n",
    "                G.add_edge(start_node, i, weight=w)\n",
    "                break\n",
    "\n",
    "# Find the shortest path using A*\n",
    "path_i = nx.astar_path(G, 0, path_points.shape[0] - 1, heuristic=heuristic2)\n",
    "print(\"\\nDone\")"
   ]
  },
  {
   "cell_type": "code",
   "execution_count": 62,
   "metadata": {},
   "outputs": [
    {
     "name": "stdout",
     "output_type": "stream",
     "text": [
      "[[1457.45   44.38    9.84]\n",
      " [1436.17   59.01    9.52]\n",
      " [1419.49   53.17    9.45]\n",
      " [1398.97   66.91    9.13]\n",
      " [1392.46   70.25    8.98]\n",
      " [1393.17  100.63    9.3 ]\n",
      " [1362.74   99.14    8.42]\n",
      " [1340.69  113.25    8.85]\n",
      " [1324.08  132.65    8.83]\n",
      " [1314.99  129.18    8.75]\n",
      " [1302.94  131.      8.42]\n",
      " [1283.24  137.73    7.94]\n",
      " [1261.51  130.01    7.8 ]\n",
      " [1249.45  122.11    8.17]\n",
      " [1232.82  123.66    8.02]\n",
      " [1208.04  119.25    8.06]\n",
      " [1196.47  116.78    8.04]\n",
      " [1168.91  122.49    7.88]\n",
      " [1141.72  131.35    7.74]\n",
      " [1127.27  116.2     7.77]\n",
      " [1078.24  115.38    7.47]\n",
      " [1029.46  134.03    6.79]\n",
      " [ 980.19  149.15    4.6 ]\n",
      " [ 917.29  195.37    4.52]\n",
      " [ 892.23  193.38    4.65]\n",
      " [ 812.18  153.98    3.9 ]\n",
      " [ 777.69  251.03    3.85]\n",
      " [ 725.62  334.4     4.7 ]\n",
      " [ 684.58  415.04    5.47]\n",
      " [ 612.5   441.87    7.39]\n",
      " [ 578.27  534.      8.27]\n",
      " [ 588.11  555.92    8.22]\n",
      " [ 584.62  596.51    9.59]\n",
      " [ 587.62  632.57   10.38]\n",
      " [ 579.2   663.39   11.72]\n",
      " [ 586.99  684.27   13.19]\n",
      " [ 570.63  697.76   18.2 ]\n",
      " [ 556.44  702.78   19.64]\n",
      " [ 538.3   709.97   20.36]\n",
      " [ 518.78  720.98   22.75]\n",
      " [ 532.96  751.86   24.  ]\n",
      " [ 526.76  760.3    24.93]\n",
      " [ 539.84  788.35   26.56]\n",
      " [ 533.77  804.89   25.93]\n",
      " [ 525.79  822.09   27.58]\n",
      " [ 514.53  817.01   27.47]\n",
      " [ 499.39  821.52   31.2 ]\n",
      " [ 483.33  805.25   31.57]\n",
      " [ 467.56  818.13   31.7 ]\n",
      " [ 464.22  822.08   31.93]\n",
      " [ 462.79  846.39   33.28]\n",
      " [ 468.85  854.36   34.94]\n",
      " [ 467.01  862.3    35.06]\n",
      " [ 461.29  873.68   34.98]\n",
      " [ 451.85  881.18   35.86]\n",
      " [ 450.71  897.89   37.7 ]\n",
      " [ 448.93  904.15   37.76]\n",
      " [ 424.2   910.96   36.22]]\n"
     ]
    }
   ],
   "source": [
    "path_i = pd.Series(path_i)\n",
    "path_i = np.ndarray.flatten(path_i.to_numpy())\n",
    "path = path_points.loc[path_i]\n",
    "path = path.to_numpy()\n",
    "print(path)"
   ]
  }
 ],
 "metadata": {
  "kernelspec": {
   "display_name": "robotics",
   "language": "python",
   "name": "python3"
  },
  "language_info": {
   "codemirror_mode": {
    "name": "ipython",
    "version": 3
   },
   "file_extension": ".py",
   "mimetype": "text/x-python",
   "name": "python",
   "nbconvert_exporter": "python",
   "pygments_lexer": "ipython3",
   "version": "3.13.0"
  }
 },
 "nbformat": 4,
 "nbformat_minor": 2
}
